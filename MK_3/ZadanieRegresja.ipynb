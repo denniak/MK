{
  "nbformat": 4,
  "nbformat_minor": 0,
  "metadata": {
    "colab": {
      "provenance": []
    },
    "kernelspec": {
      "name": "python3",
      "display_name": "Python 3"
    },
    "language_info": {
      "name": "python"
    }
  },
  "cells": [
    {
      "cell_type": "code",
      "execution_count": 51,
      "metadata": {
        "colab": {
          "base_uri": "https://localhost:8080/"
        },
        "id": "apruqGVcF_yc",
        "outputId": "f88824bc-93f4-4eab-bb05-3fb329b81c50"
      },
      "outputs": [
        {
          "output_type": "stream",
          "name": "stdout",
          "text": [
            "Wartości współczynników: a = 0.0, b = 0.0\n"
          ]
        }
      ],
      "source": [
        "import numpy as np\n",
        "import pandas as pd\n",
        "import matplotlib.pyplot as plt\n",
        "\n",
        "data = pd.read_csv(\"war1.csv\", delimiter=\";\", decimal=\",\", header=0)\n",
        "\n",
        "x1 = data[\"x1\"].values.astype(int)\n",
        "x2 = data[\"x2\"].values.astype(int)\n",
        "y = data[\"y\"].values\n",
        "\n",
        "A = np.column_stack((x1, x2))\n",
        "\n",
        "U, S, VT = np.linalg.svd(A, full_matrices = 0)\n",
        "\n",
        "a, b = VT.T @ np.linalg.inv(np.diag(S)) @ U.T @ y\n",
        "\n",
        "print(\"Wartości współczynników: a = \" + str(a) + \", b = \" + str(b))"
      ]
    }
  ]
}