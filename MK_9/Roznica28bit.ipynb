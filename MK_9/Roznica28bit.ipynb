{
  "nbformat": 4,
  "nbformat_minor": 0,
  "metadata": {
    "colab": {
      "provenance": []
    },
    "kernelspec": {
      "name": "python3",
      "display_name": "Python 3"
    },
    "language_info": {
      "name": "python"
    }
  },
  "cells": [
    {
      "cell_type": "code",
      "execution_count": 1,
      "metadata": {
        "id": "cad2e51f-61c3-4e46-8573-203d290184db"
      },
      "outputs": [],
      "source": [
        "# Imports\n",
        "%matplotlib inline\n",
        "%config InlineBackend.figure_formats = ['svg']\n",
        "\n",
        "import itertools\n",
        "import numpy as np  # Matrix and vector computation package\n",
        "import matplotlib\n",
        "import matplotlib.pyplot as plt  # Plotting library\n",
        "import seaborn as sns  # Fancier plots\n",
        "\n",
        "# Set seaborn plotting style\n",
        "sns.set_style('darkgrid')\n",
        "# Set the seed for reproducability\n",
        "np.random.seed(seed=1)\n",
        "#"
      ]
    },
    {
      "cell_type": "code",
      "execution_count": 22,
      "metadata": {
        "id": "c3864fe0-990f-4140-b4d8-ab595369f5c2",
        "outputId": "4c18a30e-21af-4643-be3b-9a173baf383b",
        "colab": {
          "base_uri": "https://localhost:8080/"
        }
      },
      "outputs": [
        {
          "output_type": "stream",
          "name": "stdout",
          "text": [
            "X_train tensor shape: (2000, 28, 2)\n",
            "T_train tensor shape: (2000, 28, 1)\n"
          ]
        }
      ],
      "source": [
        "# Create dataset\n",
        "nb_train = 2000  # Number of training samples\n",
        "# Addition of 2 n-bit numbers can result in a n+1 bit number\n",
        "sequence_len = 28  # Length of the binary sequence\n",
        "\n",
        "def create_dataset(nb_samples, sequence_len):\n",
        "    \"\"\"Create a dataset for binary subtraction and\n",
        "    return as input, targets.\"\"\"\n",
        "    max_int = 2**(sequence_len-1) # Maximum integer that can be subtracted\n",
        "    # Transform integer in binary format\n",
        "    format_str = '{:0' + str(sequence_len) + 'b}'\n",
        "    nb_inputs = 2  # Subtract 2 binary numbers\n",
        "    nb_outputs = 1  # Result is 1 binary number\n",
        "    # Input samples\n",
        "    X = np.zeros((nb_samples, sequence_len, nb_inputs))\n",
        "    # Target samples\n",
        "    T = np.zeros((nb_samples, sequence_len, nb_outputs))\n",
        "    # Fill up the input and target matrix\n",
        "    for i in range(nb_samples):\n",
        "        # Generate random numbers to subtract\n",
        "        nb1 = np.random.randint(0, max_int)\n",
        "        nb2 = np.random.randint(0, max_int)\n",
        "        if nb1 < nb2:\n",
        "            nb1, nb2 = nb2, nb1\n",
        "        # Fill current input and target row.\n",
        "        # Note that binary numbers are subtracted from right to left,\n",
        "        #  but our RNN reads from left to right, so reverse the sequence.\n",
        "        X[i,:,0] = list(\n",
        "            reversed([int(b) for b in format_str.format(nb1)]))\n",
        "        X[i,:,1] = list(\n",
        "            reversed([int(b) for b in format_str.format(nb2)]))\n",
        "        T[i,:,0] = list(\n",
        "            reversed([int(b) for b in format_str.format(nb1-nb2)]))\n",
        "    return X, T\n",
        "\n",
        "# Create training samples\n",
        "X_train, T_train = create_dataset(nb_train, sequence_len)\n",
        "print(f'X_train tensor shape: {X_train.shape}')\n",
        "print(f'T_train tensor shape: {T_train.shape}')\n",
        "#"
      ]
    },
    {
      "cell_type": "code",
      "execution_count": 23,
      "metadata": {
        "id": "b0b490d5-f9d5-4ca1-94d6-dcceae996638",
        "outputId": "bb980834-04be-4649-b0d6-157ec5f941c4",
        "colab": {
          "base_uri": "https://localhost:8080/"
        }
      },
      "outputs": [
        {
          "output_type": "stream",
          "name": "stdout",
          "text": [
            "x1:   0110000110111101000101110000   15252870\n",
            "x2: - 1001000010000110011100010000   9330953\n",
            "      -------   --\n",
            "t:  = 1011111000111010010110100000   5921917\n"
          ]
        }
      ],
      "source": [
        "# Show an example input and target\n",
        "def printSample(x1, x2, t, y=None):\n",
        "    \"\"\"Print a sample in a more visual way.\"\"\"\n",
        "    x1 = ''.join([str(int(d)) for d in x1])\n",
        "    x1_r = int(''.join(reversed(x1)), 2)\n",
        "    x2 = ''.join([str(int(d)) for d in x2])\n",
        "    x2_r = int(''.join(reversed(x2)), 2)\n",
        "    t = ''.join([str(int(d[0])) for d in t])\n",
        "    t_r = int(''.join(reversed(t)), 2)\n",
        "    if not y is None:\n",
        "        y = ''.join([str(int(d[0])) for d in y])\n",
        "    print(f'x1:   {x1:s}   {x1_r:2d}')\n",
        "    print(f'x2: - {x2:s}   {x2_r:2d}')\n",
        "    print(f'      -------   --')\n",
        "    print(f't:  = {t:s}   {t_r:2d}')\n",
        "    if not y is None:\n",
        "        print(f'y:  = {y:s}')\n",
        "\n",
        "# Print the first sample\n",
        "printSample(X_train[0,:,0], X_train[0,:,1], T_train[0,:,:])\n",
        "#"
      ]
    },
    {
      "cell_type": "code",
      "execution_count": 24,
      "metadata": {
        "id": "21c32441-3ea1-4161-8c84-fc19e3e35894"
      },
      "outputs": [],
      "source": [
        "# Define the linear tensor transformation layer\n",
        "class TensorLinear(object):\n",
        "    \"\"\"The linear tensor layer applies a linear tensor dot product\n",
        "    and a bias to its input.\"\"\"\n",
        "    def __init__(self, n_in, n_out, tensor_order, W=None, b=None):\n",
        "        \"\"\"Initialse the weight W and bias b parameters.\"\"\"\n",
        "        a = np.sqrt(6.0 / (n_in + n_out))\n",
        "        self.W = (np.random.uniform(-a, a, (n_in, n_out))\n",
        "                  if W is None else W)\n",
        "        self.b = (np.zeros((n_out)) if b is None else b)\n",
        "        # Axes summed over in backprop\n",
        "        self.bpAxes = tuple(range(tensor_order-1))\n",
        "\n",
        "    def forward(self, X):\n",
        "        \"\"\"Perform forward step transformation with the help\n",
        "        of a tensor product.\"\"\"\n",
        "        # Same as: Y[i,j,:] = np.dot(X[i,j,:], self.W) + self.b\n",
        "        #          (for i,j in X.shape[0:1])\n",
        "        # Same as: Y = np.einsum('ijk,kl->ijl', X, self.W) + self.b\n",
        "        return np.tensordot(X, self.W, axes=((-1),(0))) + self.b\n",
        "\n",
        "    def backward(self, X, gY):\n",
        "        \"\"\"Return the gradient of the parmeters and the inputs of\n",
        "        this layer.\"\"\"\n",
        "        # Same as: gW = np.einsum('ijk,ijl->kl', X, gY)\n",
        "        # Same as: gW += np.dot(X[:,j,:].T, gY[:,j,:])\n",
        "        #          (for i,j in X.shape[0:1])\n",
        "        gW = np.tensordot(X, gY, axes=(self.bpAxes, self.bpAxes))\n",
        "        gB = np.sum(gY, axis=self.bpAxes)\n",
        "        # Same as: gX = np.einsum('ijk,kl->ijl', gY, self.W.T)\n",
        "        # Same as: gX[i,j,:] = np.dot(gY[i,j,:], self.W.T)\n",
        "        #          (for i,j in gY.shape[0:1])\n",
        "        gX = np.tensordot(gY, self.W.T, axes=((-1),(0)))\n",
        "        return gX, gW, gB"
      ]
    },
    {
      "cell_type": "code",
      "execution_count": 25,
      "metadata": {
        "id": "ec4452f2-c881-4cfa-a743-edb77c01d3e2"
      },
      "outputs": [],
      "source": [
        "# Define the logistic classifier layer\n",
        "class LogisticClassifier(object):\n",
        "    \"\"\"The logistic layer applies the logistic function to its\n",
        "    inputs.\"\"\"\n",
        "\n",
        "    def forward(self, X):\n",
        "        \"\"\"Perform the forward step transformation.\"\"\"\n",
        "        return 1. / (1. + np.exp(-X))\n",
        "\n",
        "    def backward(self, Y, T):\n",
        "        \"\"\"Return the gradient with respect to the loss function\n",
        "        at the inputs of this layer.\"\"\"\n",
        "        # Average by the number of samples and sequence length.\n",
        "        return (Y - T) / (Y.shape[0] * Y.shape[1])\n",
        "\n",
        "    def loss(self, Y, T):\n",
        "        \"\"\"Compute the loss at the output.\"\"\"\n",
        "        return -np.mean((T * np.log(Y)) + ((1-T) * np.log(1-Y)))"
      ]
    },
    {
      "cell_type": "code",
      "execution_count": 26,
      "metadata": {
        "id": "3a5ce133-02b6-4242-8811-27e37dacdb1e"
      },
      "outputs": [],
      "source": [
        "# Define tanh layer\n",
        "class TanH(object):\n",
        "    \"\"\"TanH applies the tanh function to its inputs.\"\"\"\n",
        "\n",
        "    def forward(self, X):\n",
        "        \"\"\"Perform the forward step transformation.\"\"\"\n",
        "        return np.tanh(X)\n",
        "\n",
        "    def backward(self, Y, output_grad):\n",
        "        \"\"\"Return the gradient at the inputs of this layer.\"\"\"\n",
        "        gTanh = 1.0 - (Y**2)\n",
        "        return (gTanh * output_grad)"
      ]
    },
    {
      "cell_type": "code",
      "execution_count": 27,
      "metadata": {
        "id": "a77aa26b-3edf-4343-9fff-b8bb9e8dc119"
      },
      "outputs": [],
      "source": [
        "# Define internal state update layer\n",
        "class RecurrentStateUpdate(object):\n",
        "    \"\"\"Update a given state.\"\"\"\n",
        "    def __init__(self, nbStates, W, b):\n",
        "        \"\"\"Initialse the linear transformation and tanh transfer\n",
        "        function.\"\"\"\n",
        "        self.linear = TensorLinear(nbStates, nbStates, 2, W, b)\n",
        "        self.tanh = TanH()\n",
        "\n",
        "    def forward(self, Xk, Sk):\n",
        "        \"\"\"Return state k+1 from input and state k.\"\"\"\n",
        "        return self.tanh.forward(Xk + self.linear.forward(Sk))\n",
        "\n",
        "    def backward(self, Sk0, Sk1, output_grad):\n",
        "        \"\"\"Return the gradient of the parmeters and the inputs of\n",
        "        this layer.\"\"\"\n",
        "        gZ = self.tanh.backward(Sk1, output_grad)\n",
        "        gSk0, gW, gB = self.linear.backward(Sk0, gZ)\n",
        "        return gZ, gSk0, gW, gB"
      ]
    },
    {
      "cell_type": "code",
      "execution_count": 28,
      "metadata": {
        "id": "c23cc0a9-a317-41ba-b3a1-f8b8e216dd23"
      },
      "outputs": [],
      "source": [
        "# Define layer that unfolds the states over time\n",
        "class RecurrentStateUnfold(object):\n",
        "    \"\"\"Unfold the recurrent states.\"\"\"\n",
        "    def __init__(self, nbStates, nbTimesteps):\n",
        "        \"\"\"Initialse the shared parameters, the inital state and\n",
        "        state update function.\"\"\"\n",
        "        a = np.sqrt(6. / (nbStates * 2))\n",
        "        self.W = np.random.uniform(-a, a, (nbStates, nbStates))\n",
        "        self.b = np.zeros((self.W.shape[0]))  # Shared bias\n",
        "        self.S0 = np.zeros(nbStates)  # Initial state\n",
        "        self.nbTimesteps = nbTimesteps  # Timesteps to unfold\n",
        "        self.stateUpdate = RecurrentStateUpdate(\n",
        "            nbStates, self.W, self.b)  # State update function\n",
        "\n",
        "    def forward(self, X):\n",
        "        \"\"\"Iteratively apply forward step to all states.\"\"\"\n",
        "        # State tensor\n",
        "        S = np.zeros((X.shape[0], X.shape[1]+1, self.W.shape[0]))\n",
        "        S[:,0,:] = self.S0  # Set initial state\n",
        "        for k in range(self.nbTimesteps):\n",
        "            # Update the states iteratively\n",
        "            S[:,k+1,:] = self.stateUpdate.forward(X[:,k,:], S[:,k,:])\n",
        "        return S\n",
        "\n",
        "    def backward(self, X, S, gY):\n",
        "        \"\"\"Return the gradient of the parmeters and the inputs of\n",
        "        this layer.\"\"\"\n",
        "        # Initialise gradient of state outputs\n",
        "        gSk = np.zeros_like(gY[:,self.nbTimesteps-1,:])\n",
        "        # Initialse gradient tensor for state inputs\n",
        "        gZ = np.zeros_like(X)\n",
        "        gWSum = np.zeros_like(self.W)  # Initialise weight gradients\n",
        "        gBSum = np.zeros_like(self.b)  # Initialse bias gradients\n",
        "        # Propagate the gradients iteratively\n",
        "        for k in range(self.nbTimesteps-1, -1, -1):\n",
        "            # Gradient at state output is gradient from previous state\n",
        "            #  plus gradient from output\n",
        "            gSk += gY[:,k,:]\n",
        "            # Propgate the gradient back through one state\n",
        "            gZ[:,k,:], gSk, gW, gB = self.stateUpdate.backward(\n",
        "                S[:,k,:], S[:,k+1,:], gSk)\n",
        "            gWSum += gW  # Update total weight gradient\n",
        "            gBSum += gB  # Update total bias gradient\n",
        "        # Get gradient of initial state over all samples\n",
        "        gS0 = np.sum(gSk, axis=0)\n",
        "        return gZ, gWSum, gBSum, gS0"
      ]
    },
    {
      "cell_type": "code",
      "execution_count": 29,
      "metadata": {
        "id": "48140b43-c434-464d-8db0-90e5816ea06b"
      },
      "outputs": [],
      "source": [
        "# Define the full network\n",
        "class RnnBinaryAdder(object):\n",
        "    \"\"\"RNN to perform binary addition of 2 numbers.\"\"\"\n",
        "    def __init__(self, nb_of_inputs, nb_of_outputs, nb_of_states,\n",
        "                 sequence_len):\n",
        "        \"\"\"Initialse the network layers.\"\"\"\n",
        "        # Input layer\n",
        "        self.tensorInput = TensorLinear(nb_of_inputs, nb_of_states, 3)\n",
        "        # Recurrent layer\n",
        "        self.rnnUnfold = RecurrentStateUnfold(nb_of_states, sequence_len)\n",
        "        # Linear output transform\n",
        "        self.tensorOutput = TensorLinear(nb_of_states, nb_of_outputs, 3)\n",
        "        self.classifier = LogisticClassifier()  # Classification output\n",
        "\n",
        "    def forward(self, X):\n",
        "        \"\"\"Perform the forward propagation of input X through all\n",
        "        layers.\"\"\"\n",
        "        # Linear input transformation\n",
        "        recIn = self.tensorInput.forward(X)\n",
        "        # Forward propagate through time and return states\n",
        "        S = self.rnnUnfold.forward(recIn)\n",
        "        # Linear output transformation\n",
        "        Z = self.tensorOutput.forward(S[:,1:sequence_len+1,:])\n",
        "        Y = self.classifier.forward(Z)  # Classification probabilities\n",
        "        # Return: input to recurrent layer, states, input to classifier,\n",
        "        #  output\n",
        "        return recIn, S, Z, Y\n",
        "\n",
        "    def backward(self, X, Y, recIn, S, T):\n",
        "        \"\"\"Perform the backward propagation through all layers.\n",
        "        Input: input samples, network output, intput to recurrent\n",
        "        layer, states, targets.\"\"\"\n",
        "        gZ = self.classifier.backward(Y, T)  # Get output gradient\n",
        "        gRecOut, gWout, gBout = self.tensorOutput.backward(\n",
        "            S[:,1:sequence_len+1,:], gZ)\n",
        "        # Propagate gradient backwards through time\n",
        "        gRnnIn, gWrec, gBrec, gS0 = self.rnnUnfold.backward(\n",
        "            recIn, S, gRecOut)\n",
        "        gX, gWin, gBin = self.tensorInput.backward(X, gRnnIn)\n",
        "        # Return the parameter gradients of: linear output weights,\n",
        "        #  linear output bias, recursive weights, recursive bias, #\n",
        "        #  linear input weights, linear input bias, initial state.\n",
        "        return gWout, gBout, gWrec, gBrec, gWin, gBin, gS0\n",
        "\n",
        "    def getOutput(self, X):\n",
        "        \"\"\"Get the output probabilities of input X.\"\"\"\n",
        "        recIn, S, Z, Y = self.forward(X)\n",
        "        return Y\n",
        "\n",
        "    def getBinaryOutput(self, X):\n",
        "        \"\"\"Get the binary output of input X.\"\"\"\n",
        "        return np.around(self.getOutput(X))\n",
        "\n",
        "    def getParamGrads(self, X, T):\n",
        "        \"\"\"Return the gradients with respect to input X and\n",
        "        target T as a list. The list has the same order as the\n",
        "        get_params_iter iterator.\"\"\"\n",
        "        recIn, S, Z, Y = self.forward(X)\n",
        "        gWout, gBout, gWrec, gBrec, gWin, gBin, gS0 = self.backward(\n",
        "            X, Y, recIn, S, T)\n",
        "        return [g for g in itertools.chain(\n",
        "                np.nditer(gS0),\n",
        "                np.nditer(gWin),\n",
        "                np.nditer(gBin),\n",
        "                np.nditer(gWrec),\n",
        "                np.nditer(gBrec),\n",
        "                np.nditer(gWout),\n",
        "                np.nditer(gBout))]\n",
        "\n",
        "    def loss(self, Y, T):\n",
        "        \"\"\"Return the loss of input X w.r.t. targets T.\"\"\"\n",
        "        return self.classifier.loss(Y, T)\n",
        "\n",
        "    def get_params_iter(self):\n",
        "        \"\"\"Return an iterator over the parameters.\n",
        "        The iterator has the same order as get_params_grad.\n",
        "        The elements returned by the iterator are editable in-place.\"\"\"\n",
        "        return itertools.chain(\n",
        "            np.nditer(self.rnnUnfold.S0, op_flags=['readwrite']),\n",
        "            np.nditer(self.tensorInput.W, op_flags=['readwrite']),\n",
        "            np.nditer(self.tensorInput.b, op_flags=['readwrite']),\n",
        "            np.nditer(self.rnnUnfold.W, op_flags=['readwrite']),\n",
        "            np.nditer(self.rnnUnfold.b, op_flags=['readwrite']),\n",
        "            np.nditer(self.tensorOutput.W, op_flags=['readwrite']),\n",
        "            np.nditer(self.tensorOutput.b, op_flags=['readwrite']))"
      ]
    },
    {
      "cell_type": "code",
      "execution_count": 30,
      "metadata": {
        "id": "d6692403-fc84-4e57-b0bb-f30ed87e782a",
        "outputId": "ee005210-e404-4179-e7f8-9c9dcaec186c",
        "colab": {
          "base_uri": "https://localhost:8080/"
        }
      },
      "outputs": [
        {
          "output_type": "stream",
          "name": "stdout",
          "text": [
            "No gradient errors found\n"
          ]
        }
      ],
      "source": [
        "# Do gradient checking\n",
        "# Define an RNN to test\n",
        "RNN = RnnBinaryAdder(2, 1, 3, sequence_len)\n",
        "# Get the gradients of the parameters from a subset of the data\n",
        "backprop_grads = RNN.getParamGrads(\n",
        "    X_train[0:100,:,:], T_train[0:100,:,:])\n",
        "\n",
        "eps = 1e-7  # Set the small change to compute the numerical gradient\n",
        "# Compute the numerical gradients of the parameters in all layers.\n",
        "for p_idx, param in enumerate(RNN.get_params_iter()):\n",
        "    grad_backprop = backprop_grads[p_idx]\n",
        "    # + eps\n",
        "    param += eps\n",
        "    plus_loss = RNN.loss(\n",
        "        RNN.getOutput(X_train[0:100,:,:]), T_train[0:100,:,:])\n",
        "    # - eps\n",
        "    param -= 2 * eps\n",
        "    min_loss = RNN.loss(\n",
        "        RNN.getOutput(X_train[0:100,:,:]), T_train[0:100,:,:])\n",
        "    # reset param value\n",
        "    param += eps\n",
        "    # calculate numerical gradient\n",
        "    grad_num = (plus_loss - min_loss) / (2*eps)\n",
        "    # Raise error if the numerical grade is not close to the\n",
        "    #  backprop gradient\n",
        "    if not np.isclose(grad_num, grad_backprop):\n",
        "        raise ValueError((\n",
        "            f'Numerical gradient of {grad_num:.6f} is not close '\n",
        "            f'to the backpropagation gradient of {grad_backprop:.6f}!'\n",
        "        ))\n",
        "print('No gradient errors found')\n",
        "#"
      ]
    },
    {
      "cell_type": "code",
      "execution_count": 31,
      "metadata": {
        "id": "88865021-6454-44ec-8d98-1b33c994cbd0"
      },
      "outputs": [],
      "source": [
        "# Set hyper-parameters\n",
        "lmbd = 0.5  # Rmsprop lambda\n",
        "learning_rate = 0.05  # Learning rate\n",
        "momentum_term = 0.80  # Momentum term\n",
        "eps = 1e-6  # Numerical stability term to prevent division by zero\n",
        "mb_size = 100  # Size of the minibatches (number of samples)\n",
        "\n",
        "# Create the network\n",
        "nb_of_states = 3  # Number of states in the recurrent layer\n",
        "RNN = RnnBinaryAdder(2, 1, nb_of_states, sequence_len)\n",
        "# Set the initial parameters\n",
        "# Number of parameters in the network\n",
        "nbParameters =  sum(1 for _ in RNN.get_params_iter())\n",
        "# Rmsprop moving average\n",
        "maSquare = [0.0 for _ in range(nbParameters)]\n",
        "Vs = [0.0 for _ in range(nbParameters)]  # Momentum\n",
        "\n",
        "# Create a list of minibatch losses to be plotted\n",
        "ls_of_loss = [\n",
        "    RNN.loss(RNN.getOutput(X_train[0:100,:,:]), T_train[0:100,:,:])]\n",
        "# Iterate over some iterations\n",
        "for i in range(5):\n",
        "    # Iterate over all the minibatches\n",
        "    for mb in range(nb_train // mb_size):\n",
        "        X_mb = X_train[mb:mb+mb_size,:,:]  # Input minibatch\n",
        "        T_mb = T_train[mb:mb+mb_size,:,:]  # Target minibatch\n",
        "        V_tmp = [v * momentum_term for v in Vs]\n",
        "        # Update each parameters according to previous gradient\n",
        "        for pIdx, P in enumerate(RNN.get_params_iter()):\n",
        "            P += V_tmp[pIdx]\n",
        "        # Get gradients after following old velocity\n",
        "        # Get the parameter gradients\n",
        "        backprop_grads = RNN.getParamGrads(X_mb, T_mb)\n",
        "        # Update each parameter seperately\n",
        "        for pIdx, P in enumerate(RNN.get_params_iter()):\n",
        "            # Update the Rmsprop moving averages\n",
        "            maSquare[pIdx] = lmbd * maSquare[pIdx] + (\n",
        "                1-lmbd) * backprop_grads[pIdx]**2\n",
        "            # Calculate the Rmsprop normalised gradient\n",
        "            pGradNorm = ((\n",
        "                learning_rate * backprop_grads[pIdx]) / np.sqrt(\n",
        "                maSquare[pIdx]) + eps)\n",
        "            # Update the momentum\n",
        "            Vs[pIdx] = V_tmp[pIdx] - pGradNorm\n",
        "            P -= pGradNorm   # Update the parameter\n",
        "        # Add loss to list to plot\n",
        "        ls_of_loss.append(RNN.loss(RNN.getOutput(X_mb), T_mb))"
      ]
    },
    {
      "cell_type": "code",
      "execution_count": 32,
      "metadata": {
        "id": "a58f92f1-0651-4e6f-a211-0575f370161c",
        "outputId": "8447ab2e-6273-41f6-87c6-81ef2a2589bd",
        "colab": {
          "base_uri": "https://localhost:8080/",
          "height": 298
        }
      },
      "outputs": [
        {
          "output_type": "display_data",
          "data": {
            "text/plain": [
              "<Figure size 500x300 with 1 Axes>"
            ],
            "image/svg+xml": "<?xml version=\"1.0\" encoding=\"utf-8\" standalone=\"no\"?>\n<!DOCTYPE svg PUBLIC \"-//W3C//DTD SVG 1.1//EN\"\n  \"http://www.w3.org/Graphics/SVG/1.1/DTD/svg11.dtd\">\n<svg xmlns:xlink=\"http://www.w3.org/1999/xlink\" width=\"344.396875pt\" height=\"206.754375pt\" viewBox=\"0 0 344.396875 206.754375\" xmlns=\"http://www.w3.org/2000/svg\" version=\"1.1\">\n <metadata>\n  <rdf:RDF xmlns:dc=\"http://purl.org/dc/elements/1.1/\" xmlns:cc=\"http://creativecommons.org/ns#\" xmlns:rdf=\"http://www.w3.org/1999/02/22-rdf-syntax-ns#\">\n   <cc:Work>\n    <dc:type rdf:resource=\"http://purl.org/dc/dcmitype/StillImage\"/>\n    <dc:date>2024-01-28T19:15:41.901856</dc:date>\n    <dc:format>image/svg+xml</dc:format>\n    <dc:creator>\n     <cc:Agent>\n      <dc:title>Matplotlib v3.7.1, https://matplotlib.org/</dc:title>\n     </cc:Agent>\n    </dc:creator>\n   </cc:Work>\n  </rdf:RDF>\n </metadata>\n <defs>\n  <style type=\"text/css\">*{stroke-linejoin: round; stroke-linecap: butt}</style>\n </defs>\n <g id=\"figure_1\">\n  <g id=\"patch_1\">\n   <path d=\"M 0 206.754375 \nL 344.396875 206.754375 \nL 344.396875 0 \nL 0 0 \nz\n\" style=\"fill: #ffffff\"/>\n  </g>\n  <g id=\"axes_1\">\n   <g id=\"patch_2\">\n    <path d=\"M 48.653125 169.198125 \nL 327.653125 169.198125 \nL 327.653125 22.318125 \nL 48.653125 22.318125 \nz\n\" style=\"fill: #eaeaf2\"/>\n   </g>\n   <g id=\"matplotlib.axis_1\">\n    <g id=\"xtick_1\">\n     <g id=\"line2d_1\">\n      <path d=\"M 48.653125 169.198125 \nL 48.653125 22.318125 \n\" clip-path=\"url(#pbe3398784d)\" style=\"fill: none; stroke: #ffffff; stroke-width: 0.8; stroke-linecap: round\"/>\n     </g>\n     <g id=\"text_1\">\n      <!-- 0 -->\n      <g style=\"fill: #262626\" transform=\"translate(45.471875 183.796562) scale(0.1 -0.1)\">\n       <defs>\n        <path id=\"DejaVuSans-30\" d=\"M 2034 4250 \nQ 1547 4250 1301 3770 \nQ 1056 3291 1056 2328 \nQ 1056 1369 1301 889 \nQ 1547 409 2034 409 \nQ 2525 409 2770 889 \nQ 3016 1369 3016 2328 \nQ 3016 3291 2770 3770 \nQ 2525 4250 2034 4250 \nz\nM 2034 4750 \nQ 2819 4750 3233 4129 \nQ 3647 3509 3647 2328 \nQ 3647 1150 3233 529 \nQ 2819 -91 2034 -91 \nQ 1250 -91 836 529 \nQ 422 1150 422 2328 \nQ 422 3509 836 4129 \nQ 1250 4750 2034 4750 \nz\n\" transform=\"scale(0.015625)\"/>\n       </defs>\n       <use xlink:href=\"#DejaVuSans-30\"/>\n      </g>\n     </g>\n    </g>\n    <g id=\"xtick_2\">\n     <g id=\"line2d_2\">\n      <path d=\"M 104.453125 169.198125 \nL 104.453125 22.318125 \n\" clip-path=\"url(#pbe3398784d)\" style=\"fill: none; stroke: #ffffff; stroke-width: 0.8; stroke-linecap: round\"/>\n     </g>\n     <g id=\"text_2\">\n      <!-- 20 -->\n      <g style=\"fill: #262626\" transform=\"translate(98.090625 183.796562) scale(0.1 -0.1)\">\n       <defs>\n        <path id=\"DejaVuSans-32\" d=\"M 1228 531 \nL 3431 531 \nL 3431 0 \nL 469 0 \nL 469 531 \nQ 828 903 1448 1529 \nQ 2069 2156 2228 2338 \nQ 2531 2678 2651 2914 \nQ 2772 3150 2772 3378 \nQ 2772 3750 2511 3984 \nQ 2250 4219 1831 4219 \nQ 1534 4219 1204 4116 \nQ 875 4013 500 3803 \nL 500 4441 \nQ 881 4594 1212 4672 \nQ 1544 4750 1819 4750 \nQ 2544 4750 2975 4387 \nQ 3406 4025 3406 3419 \nQ 3406 3131 3298 2873 \nQ 3191 2616 2906 2266 \nQ 2828 2175 2409 1742 \nQ 1991 1309 1228 531 \nz\n\" transform=\"scale(0.015625)\"/>\n       </defs>\n       <use xlink:href=\"#DejaVuSans-32\"/>\n       <use xlink:href=\"#DejaVuSans-30\" x=\"63.623047\"/>\n      </g>\n     </g>\n    </g>\n    <g id=\"xtick_3\">\n     <g id=\"line2d_3\">\n      <path d=\"M 160.253125 169.198125 \nL 160.253125 22.318125 \n\" clip-path=\"url(#pbe3398784d)\" style=\"fill: none; stroke: #ffffff; stroke-width: 0.8; stroke-linecap: round\"/>\n     </g>\n     <g id=\"text_3\">\n      <!-- 40 -->\n      <g style=\"fill: #262626\" transform=\"translate(153.890625 183.796562) scale(0.1 -0.1)\">\n       <defs>\n        <path id=\"DejaVuSans-34\" d=\"M 2419 4116 \nL 825 1625 \nL 2419 1625 \nL 2419 4116 \nz\nM 2253 4666 \nL 3047 4666 \nL 3047 1625 \nL 3713 1625 \nL 3713 1100 \nL 3047 1100 \nL 3047 0 \nL 2419 0 \nL 2419 1100 \nL 313 1100 \nL 313 1709 \nL 2253 4666 \nz\n\" transform=\"scale(0.015625)\"/>\n       </defs>\n       <use xlink:href=\"#DejaVuSans-34\"/>\n       <use xlink:href=\"#DejaVuSans-30\" x=\"63.623047\"/>\n      </g>\n     </g>\n    </g>\n    <g id=\"xtick_4\">\n     <g id=\"line2d_4\">\n      <path d=\"M 216.053125 169.198125 \nL 216.053125 22.318125 \n\" clip-path=\"url(#pbe3398784d)\" style=\"fill: none; stroke: #ffffff; stroke-width: 0.8; stroke-linecap: round\"/>\n     </g>\n     <g id=\"text_4\">\n      <!-- 60 -->\n      <g style=\"fill: #262626\" transform=\"translate(209.690625 183.796562) scale(0.1 -0.1)\">\n       <defs>\n        <path id=\"DejaVuSans-36\" d=\"M 2113 2584 \nQ 1688 2584 1439 2293 \nQ 1191 2003 1191 1497 \nQ 1191 994 1439 701 \nQ 1688 409 2113 409 \nQ 2538 409 2786 701 \nQ 3034 994 3034 1497 \nQ 3034 2003 2786 2293 \nQ 2538 2584 2113 2584 \nz\nM 3366 4563 \nL 3366 3988 \nQ 3128 4100 2886 4159 \nQ 2644 4219 2406 4219 \nQ 1781 4219 1451 3797 \nQ 1122 3375 1075 2522 \nQ 1259 2794 1537 2939 \nQ 1816 3084 2150 3084 \nQ 2853 3084 3261 2657 \nQ 3669 2231 3669 1497 \nQ 3669 778 3244 343 \nQ 2819 -91 2113 -91 \nQ 1303 -91 875 529 \nQ 447 1150 447 2328 \nQ 447 3434 972 4092 \nQ 1497 4750 2381 4750 \nQ 2619 4750 2861 4703 \nQ 3103 4656 3366 4563 \nz\n\" transform=\"scale(0.015625)\"/>\n       </defs>\n       <use xlink:href=\"#DejaVuSans-36\"/>\n       <use xlink:href=\"#DejaVuSans-30\" x=\"63.623047\"/>\n      </g>\n     </g>\n    </g>\n    <g id=\"xtick_5\">\n     <g id=\"line2d_5\">\n      <path d=\"M 271.853125 169.198125 \nL 271.853125 22.318125 \n\" clip-path=\"url(#pbe3398784d)\" style=\"fill: none; stroke: #ffffff; stroke-width: 0.8; stroke-linecap: round\"/>\n     </g>\n     <g id=\"text_5\">\n      <!-- 80 -->\n      <g style=\"fill: #262626\" transform=\"translate(265.490625 183.796562) scale(0.1 -0.1)\">\n       <defs>\n        <path id=\"DejaVuSans-38\" d=\"M 2034 2216 \nQ 1584 2216 1326 1975 \nQ 1069 1734 1069 1313 \nQ 1069 891 1326 650 \nQ 1584 409 2034 409 \nQ 2484 409 2743 651 \nQ 3003 894 3003 1313 \nQ 3003 1734 2745 1975 \nQ 2488 2216 2034 2216 \nz\nM 1403 2484 \nQ 997 2584 770 2862 \nQ 544 3141 544 3541 \nQ 544 4100 942 4425 \nQ 1341 4750 2034 4750 \nQ 2731 4750 3128 4425 \nQ 3525 4100 3525 3541 \nQ 3525 3141 3298 2862 \nQ 3072 2584 2669 2484 \nQ 3125 2378 3379 2068 \nQ 3634 1759 3634 1313 \nQ 3634 634 3220 271 \nQ 2806 -91 2034 -91 \nQ 1263 -91 848 271 \nQ 434 634 434 1313 \nQ 434 1759 690 2068 \nQ 947 2378 1403 2484 \nz\nM 1172 3481 \nQ 1172 3119 1398 2916 \nQ 1625 2713 2034 2713 \nQ 2441 2713 2670 2916 \nQ 2900 3119 2900 3481 \nQ 2900 3844 2670 4047 \nQ 2441 4250 2034 4250 \nQ 1625 4250 1398 4047 \nQ 1172 3844 1172 3481 \nz\n\" transform=\"scale(0.015625)\"/>\n       </defs>\n       <use xlink:href=\"#DejaVuSans-38\"/>\n       <use xlink:href=\"#DejaVuSans-30\" x=\"63.623047\"/>\n      </g>\n     </g>\n    </g>\n    <g id=\"xtick_6\">\n     <g id=\"line2d_6\">\n      <path d=\"M 327.653125 169.198125 \nL 327.653125 22.318125 \n\" clip-path=\"url(#pbe3398784d)\" style=\"fill: none; stroke: #ffffff; stroke-width: 0.8; stroke-linecap: round\"/>\n     </g>\n     <g id=\"text_6\">\n      <!-- 100 -->\n      <g style=\"fill: #262626\" transform=\"translate(318.109375 183.796562) scale(0.1 -0.1)\">\n       <defs>\n        <path id=\"DejaVuSans-31\" d=\"M 794 531 \nL 1825 531 \nL 1825 4091 \nL 703 3866 \nL 703 4441 \nL 1819 4666 \nL 2450 4666 \nL 2450 531 \nL 3481 531 \nL 3481 0 \nL 794 0 \nL 794 531 \nz\n\" transform=\"scale(0.015625)\"/>\n       </defs>\n       <use xlink:href=\"#DejaVuSans-31\"/>\n       <use xlink:href=\"#DejaVuSans-30\" x=\"63.623047\"/>\n       <use xlink:href=\"#DejaVuSans-30\" x=\"127.246094\"/>\n      </g>\n     </g>\n    </g>\n    <g id=\"text_7\">\n     <!-- minibatch iteration -->\n     <g style=\"fill: #262626\" transform=\"translate(140.507812 197.474688) scale(0.1 -0.1)\">\n      <defs>\n       <path id=\"DejaVuSans-6d\" d=\"M 3328 2828 \nQ 3544 3216 3844 3400 \nQ 4144 3584 4550 3584 \nQ 5097 3584 5394 3201 \nQ 5691 2819 5691 2113 \nL 5691 0 \nL 5113 0 \nL 5113 2094 \nQ 5113 2597 4934 2840 \nQ 4756 3084 4391 3084 \nQ 3944 3084 3684 2787 \nQ 3425 2491 3425 1978 \nL 3425 0 \nL 2847 0 \nL 2847 2094 \nQ 2847 2600 2669 2842 \nQ 2491 3084 2119 3084 \nQ 1678 3084 1418 2786 \nQ 1159 2488 1159 1978 \nL 1159 0 \nL 581 0 \nL 581 3500 \nL 1159 3500 \nL 1159 2956 \nQ 1356 3278 1631 3431 \nQ 1906 3584 2284 3584 \nQ 2666 3584 2933 3390 \nQ 3200 3197 3328 2828 \nz\n\" transform=\"scale(0.015625)\"/>\n       <path id=\"DejaVuSans-69\" d=\"M 603 3500 \nL 1178 3500 \nL 1178 0 \nL 603 0 \nL 603 3500 \nz\nM 603 4863 \nL 1178 4863 \nL 1178 4134 \nL 603 4134 \nL 603 4863 \nz\n\" transform=\"scale(0.015625)\"/>\n       <path id=\"DejaVuSans-6e\" d=\"M 3513 2113 \nL 3513 0 \nL 2938 0 \nL 2938 2094 \nQ 2938 2591 2744 2837 \nQ 2550 3084 2163 3084 \nQ 1697 3084 1428 2787 \nQ 1159 2491 1159 1978 \nL 1159 0 \nL 581 0 \nL 581 3500 \nL 1159 3500 \nL 1159 2956 \nQ 1366 3272 1645 3428 \nQ 1925 3584 2291 3584 \nQ 2894 3584 3203 3211 \nQ 3513 2838 3513 2113 \nz\n\" transform=\"scale(0.015625)\"/>\n       <path id=\"DejaVuSans-62\" d=\"M 3116 1747 \nQ 3116 2381 2855 2742 \nQ 2594 3103 2138 3103 \nQ 1681 3103 1420 2742 \nQ 1159 2381 1159 1747 \nQ 1159 1113 1420 752 \nQ 1681 391 2138 391 \nQ 2594 391 2855 752 \nQ 3116 1113 3116 1747 \nz\nM 1159 2969 \nQ 1341 3281 1617 3432 \nQ 1894 3584 2278 3584 \nQ 2916 3584 3314 3078 \nQ 3713 2572 3713 1747 \nQ 3713 922 3314 415 \nQ 2916 -91 2278 -91 \nQ 1894 -91 1617 61 \nQ 1341 213 1159 525 \nL 1159 0 \nL 581 0 \nL 581 4863 \nL 1159 4863 \nL 1159 2969 \nz\n\" transform=\"scale(0.015625)\"/>\n       <path id=\"DejaVuSans-61\" d=\"M 2194 1759 \nQ 1497 1759 1228 1600 \nQ 959 1441 959 1056 \nQ 959 750 1161 570 \nQ 1363 391 1709 391 \nQ 2188 391 2477 730 \nQ 2766 1069 2766 1631 \nL 2766 1759 \nL 2194 1759 \nz\nM 3341 1997 \nL 3341 0 \nL 2766 0 \nL 2766 531 \nQ 2569 213 2275 61 \nQ 1981 -91 1556 -91 \nQ 1019 -91 701 211 \nQ 384 513 384 1019 \nQ 384 1609 779 1909 \nQ 1175 2209 1959 2209 \nL 2766 2209 \nL 2766 2266 \nQ 2766 2663 2505 2880 \nQ 2244 3097 1772 3097 \nQ 1472 3097 1187 3025 \nQ 903 2953 641 2809 \nL 641 3341 \nQ 956 3463 1253 3523 \nQ 1550 3584 1831 3584 \nQ 2591 3584 2966 3190 \nQ 3341 2797 3341 1997 \nz\n\" transform=\"scale(0.015625)\"/>\n       <path id=\"DejaVuSans-74\" d=\"M 1172 4494 \nL 1172 3500 \nL 2356 3500 \nL 2356 3053 \nL 1172 3053 \nL 1172 1153 \nQ 1172 725 1289 603 \nQ 1406 481 1766 481 \nL 2356 481 \nL 2356 0 \nL 1766 0 \nQ 1100 0 847 248 \nQ 594 497 594 1153 \nL 594 3053 \nL 172 3053 \nL 172 3500 \nL 594 3500 \nL 594 4494 \nL 1172 4494 \nz\n\" transform=\"scale(0.015625)\"/>\n       <path id=\"DejaVuSans-63\" d=\"M 3122 3366 \nL 3122 2828 \nQ 2878 2963 2633 3030 \nQ 2388 3097 2138 3097 \nQ 1578 3097 1268 2742 \nQ 959 2388 959 1747 \nQ 959 1106 1268 751 \nQ 1578 397 2138 397 \nQ 2388 397 2633 464 \nQ 2878 531 3122 666 \nL 3122 134 \nQ 2881 22 2623 -34 \nQ 2366 -91 2075 -91 \nQ 1284 -91 818 406 \nQ 353 903 353 1747 \nQ 353 2603 823 3093 \nQ 1294 3584 2113 3584 \nQ 2378 3584 2631 3529 \nQ 2884 3475 3122 3366 \nz\n\" transform=\"scale(0.015625)\"/>\n       <path id=\"DejaVuSans-68\" d=\"M 3513 2113 \nL 3513 0 \nL 2938 0 \nL 2938 2094 \nQ 2938 2591 2744 2837 \nQ 2550 3084 2163 3084 \nQ 1697 3084 1428 2787 \nQ 1159 2491 1159 1978 \nL 1159 0 \nL 581 0 \nL 581 4863 \nL 1159 4863 \nL 1159 2956 \nQ 1366 3272 1645 3428 \nQ 1925 3584 2291 3584 \nQ 2894 3584 3203 3211 \nQ 3513 2838 3513 2113 \nz\n\" transform=\"scale(0.015625)\"/>\n       <path id=\"DejaVuSans-20\" transform=\"scale(0.015625)\"/>\n       <path id=\"DejaVuSans-65\" d=\"M 3597 1894 \nL 3597 1613 \nL 953 1613 \nQ 991 1019 1311 708 \nQ 1631 397 2203 397 \nQ 2534 397 2845 478 \nQ 3156 559 3463 722 \nL 3463 178 \nQ 3153 47 2828 -22 \nQ 2503 -91 2169 -91 \nQ 1331 -91 842 396 \nQ 353 884 353 1716 \nQ 353 2575 817 3079 \nQ 1281 3584 2069 3584 \nQ 2775 3584 3186 3129 \nQ 3597 2675 3597 1894 \nz\nM 3022 2063 \nQ 3016 2534 2758 2815 \nQ 2500 3097 2075 3097 \nQ 1594 3097 1305 2825 \nQ 1016 2553 972 2059 \nL 3022 2063 \nz\n\" transform=\"scale(0.015625)\"/>\n       <path id=\"DejaVuSans-72\" d=\"M 2631 2963 \nQ 2534 3019 2420 3045 \nQ 2306 3072 2169 3072 \nQ 1681 3072 1420 2755 \nQ 1159 2438 1159 1844 \nL 1159 0 \nL 581 0 \nL 581 3500 \nL 1159 3500 \nL 1159 2956 \nQ 1341 3275 1631 3429 \nQ 1922 3584 2338 3584 \nQ 2397 3584 2469 3576 \nQ 2541 3569 2628 3553 \nL 2631 2963 \nz\n\" transform=\"scale(0.015625)\"/>\n       <path id=\"DejaVuSans-6f\" d=\"M 1959 3097 \nQ 1497 3097 1228 2736 \nQ 959 2375 959 1747 \nQ 959 1119 1226 758 \nQ 1494 397 1959 397 \nQ 2419 397 2687 759 \nQ 2956 1122 2956 1747 \nQ 2956 2369 2687 2733 \nQ 2419 3097 1959 3097 \nz\nM 1959 3584 \nQ 2709 3584 3137 3096 \nQ 3566 2609 3566 1747 \nQ 3566 888 3137 398 \nQ 2709 -91 1959 -91 \nQ 1206 -91 779 398 \nQ 353 888 353 1747 \nQ 353 2609 779 3096 \nQ 1206 3584 1959 3584 \nz\n\" transform=\"scale(0.015625)\"/>\n      </defs>\n      <use xlink:href=\"#DejaVuSans-6d\"/>\n      <use xlink:href=\"#DejaVuSans-69\" x=\"97.412109\"/>\n      <use xlink:href=\"#DejaVuSans-6e\" x=\"125.195312\"/>\n      <use xlink:href=\"#DejaVuSans-69\" x=\"188.574219\"/>\n      <use xlink:href=\"#DejaVuSans-62\" x=\"216.357422\"/>\n      <use xlink:href=\"#DejaVuSans-61\" x=\"279.833984\"/>\n      <use xlink:href=\"#DejaVuSans-74\" x=\"341.113281\"/>\n      <use xlink:href=\"#DejaVuSans-63\" x=\"380.322266\"/>\n      <use xlink:href=\"#DejaVuSans-68\" x=\"435.302734\"/>\n      <use xlink:href=\"#DejaVuSans-20\" x=\"498.681641\"/>\n      <use xlink:href=\"#DejaVuSans-69\" x=\"530.46875\"/>\n      <use xlink:href=\"#DejaVuSans-74\" x=\"558.251953\"/>\n      <use xlink:href=\"#DejaVuSans-65\" x=\"597.460938\"/>\n      <use xlink:href=\"#DejaVuSans-72\" x=\"658.984375\"/>\n      <use xlink:href=\"#DejaVuSans-61\" x=\"700.097656\"/>\n      <use xlink:href=\"#DejaVuSans-74\" x=\"761.376953\"/>\n      <use xlink:href=\"#DejaVuSans-69\" x=\"800.585938\"/>\n      <use xlink:href=\"#DejaVuSans-6f\" x=\"828.369141\"/>\n      <use xlink:href=\"#DejaVuSans-6e\" x=\"889.550781\"/>\n     </g>\n    </g>\n   </g>\n   <g id=\"matplotlib.axis_2\">\n    <g id=\"ytick_1\">\n     <g id=\"line2d_7\">\n      <path d=\"M 48.653125 162.521874 \nL 327.653125 162.521874 \n\" clip-path=\"url(#pbe3398784d)\" style=\"fill: none; stroke: #ffffff; stroke-width: 0.8; stroke-linecap: round\"/>\n     </g>\n     <g id=\"text_8\">\n      <!-- 0.0 -->\n      <g style=\"fill: #262626\" transform=\"translate(25.75 166.321093) scale(0.1 -0.1)\">\n       <defs>\n        <path id=\"DejaVuSans-2e\" d=\"M 684 794 \nL 1344 794 \nL 1344 0 \nL 684 0 \nL 684 794 \nz\n\" transform=\"scale(0.015625)\"/>\n       </defs>\n       <use xlink:href=\"#DejaVuSans-30\"/>\n       <use xlink:href=\"#DejaVuSans-2e\" x=\"63.623047\"/>\n       <use xlink:href=\"#DejaVuSans-30\" x=\"95.410156\"/>\n      </g>\n     </g>\n    </g>\n    <g id=\"ytick_2\">\n     <g id=\"line2d_8\">\n      <path d=\"M 48.653125 126.397743 \nL 327.653125 126.397743 \n\" clip-path=\"url(#pbe3398784d)\" style=\"fill: none; stroke: #ffffff; stroke-width: 0.8; stroke-linecap: round\"/>\n     </g>\n     <g id=\"text_9\">\n      <!-- 0.2 -->\n      <g style=\"fill: #262626\" transform=\"translate(25.75 130.196962) scale(0.1 -0.1)\">\n       <use xlink:href=\"#DejaVuSans-30\"/>\n       <use xlink:href=\"#DejaVuSans-2e\" x=\"63.623047\"/>\n       <use xlink:href=\"#DejaVuSans-32\" x=\"95.410156\"/>\n      </g>\n     </g>\n    </g>\n    <g id=\"ytick_3\">\n     <g id=\"line2d_9\">\n      <path d=\"M 48.653125 90.273613 \nL 327.653125 90.273613 \n\" clip-path=\"url(#pbe3398784d)\" style=\"fill: none; stroke: #ffffff; stroke-width: 0.8; stroke-linecap: round\"/>\n     </g>\n     <g id=\"text_10\">\n      <!-- 0.4 -->\n      <g style=\"fill: #262626\" transform=\"translate(25.75 94.072832) scale(0.1 -0.1)\">\n       <use xlink:href=\"#DejaVuSans-30\"/>\n       <use xlink:href=\"#DejaVuSans-2e\" x=\"63.623047\"/>\n       <use xlink:href=\"#DejaVuSans-34\" x=\"95.410156\"/>\n      </g>\n     </g>\n    </g>\n    <g id=\"ytick_4\">\n     <g id=\"line2d_10\">\n      <path d=\"M 48.653125 54.149483 \nL 327.653125 54.149483 \n\" clip-path=\"url(#pbe3398784d)\" style=\"fill: none; stroke: #ffffff; stroke-width: 0.8; stroke-linecap: round\"/>\n     </g>\n     <g id=\"text_11\">\n      <!-- 0.6 -->\n      <g style=\"fill: #262626\" transform=\"translate(25.75 57.948701) scale(0.1 -0.1)\">\n       <use xlink:href=\"#DejaVuSans-30\"/>\n       <use xlink:href=\"#DejaVuSans-2e\" x=\"63.623047\"/>\n       <use xlink:href=\"#DejaVuSans-36\" x=\"95.410156\"/>\n      </g>\n     </g>\n    </g>\n    <g id=\"text_12\">\n     <!-- $\\xi$ -->\n     <g style=\"fill: #262626\" transform=\"translate(18.6 99.958125) rotate(-90) scale(0.15 -0.15)\">\n      <defs>\n       <path id=\"DejaVuSans-Oblique-3be\" d=\"M 2016 397 \nQ 2428 394 2628 159 \nQ 2844 -88 2772 -463 \nQ 2700 -822 2422 -1072 \nQ 2119 -1344 1609 -1344 \nQ 1656 -1109 1700 -872 \nQ 1913 -888 2072 -750 \nQ 2194 -641 2216 -525 \nQ 2247 -359 2175 -222 \nQ 2100 -91 1922 -91 \nQ -25 -91 241 1275 \nQ 422 2213 1516 2488 \nQ 663 2600 822 3413 \nQ 941 4028 1678 4284 \nL 1028 4284 \nL 1141 4863 \nL 3606 4863 \nL 3494 4284 \nQ 1528 4284 1350 3375 \nQ 1234 2778 2881 2750 \nL 2778 2219 \nQ 1009 2288 819 1275 \nQ 659 428 2016 397 \nz\n\" transform=\"scale(0.015625)\"/>\n      </defs>\n      <use xlink:href=\"#DejaVuSans-Oblique-3be\" transform=\"translate(0 0.015625)\"/>\n     </g>\n    </g>\n   </g>\n   <g id=\"line2d_11\">\n    <path d=\"M 48.653125 30.887851 \nL 51.443125 28.994489 \nL 54.233125 34.27041 \nL 57.023125 36.613651 \nL 59.813125 37.091381 \nL 62.603125 37.330912 \nL 65.393125 37.508085 \nL 68.183125 37.68111 \nL 70.973125 37.664758 \nL 73.763125 37.288996 \nL 76.553125 37.718723 \nL 79.343125 37.57659 \nL 82.133125 37.716319 \nL 84.923125 37.618151 \nL 87.713125 37.666387 \nL 90.503125 37.587794 \nL 93.293125 37.684435 \nL 96.083125 37.680028 \nL 98.873125 37.792408 \nL 101.663125 37.753694 \nL 104.453125 37.923148 \nL 107.243125 38.641563 \nL 110.033125 39.466728 \nL 112.823125 40.99898 \nL 115.613125 42.291479 \nL 118.403125 43.809362 \nL 121.193125 46.10368 \nL 123.983125 48.599764 \nL 126.773125 50.880148 \nL 129.563125 55.709776 \nL 132.353125 61.958561 \nL 135.143125 69.293118 \nL 137.933125 76.394472 \nL 140.723125 85.184779 \nL 143.513125 94.126097 \nL 146.303125 102.921514 \nL 149.093125 110.589785 \nL 151.883125 118.410492 \nL 154.673125 130.055126 \nL 157.463125 134.257333 \nL 160.253125 142.578067 \nL 163.043125 148.206083 \nL 165.833125 151.457296 \nL 168.623125 153.719215 \nL 171.413125 155.480417 \nL 174.203125 156.886488 \nL 176.993125 158.005861 \nL 179.783125 158.891151 \nL 182.573125 159.611279 \nL 185.363125 160.196587 \nL 188.153125 160.657945 \nL 190.943125 161.023368 \nL 193.733125 161.322994 \nL 196.523125 161.563401 \nL 199.313125 161.751549 \nL 202.103125 161.901242 \nL 204.893125 162.018312 \nL 207.683125 162.113417 \nL 210.473125 162.190176 \nL 213.263125 162.251817 \nL 216.053125 162.302146 \nL 218.843125 162.342732 \nL 221.633125 162.374982 \nL 224.423125 162.401338 \nL 227.213125 162.422907 \nL 230.003125 162.440696 \nL 232.793125 162.455311 \nL 235.583125 162.466897 \nL 238.373125 162.476506 \nL 241.163125 162.484442 \nL 243.953125 162.491008 \nL 246.743125 162.49633 \nL 249.533125 162.500758 \nL 252.323125 162.504394 \nL 255.113125 162.507383 \nL 257.903125 162.509899 \nL 260.693125 162.511936 \nL 263.483125 162.513639 \nL 266.273125 162.515055 \nL 269.063125 162.516221 \nL 271.853125 162.517202 \nL 274.643125 162.51801 \nL 277.433125 162.518664 \nL 280.223125 162.51921 \nL 283.013125 162.519664 \nL 285.803125 162.520045 \nL 288.593125 162.520361 \nL 291.383125 162.520616 \nL 294.173125 162.520828 \nL 296.963125 162.521005 \nL 299.753125 162.521154 \nL 302.543125 162.521275 \nL 305.333125 162.521377 \nL 308.123125 162.521461 \nL 310.913125 162.52153 \nL 313.703125 162.521589 \nL 316.493125 162.521637 \nL 319.283125 162.521677 \nL 322.073125 162.52171 \nL 324.863125 162.521738 \nL 327.653125 162.521761 \n\" clip-path=\"url(#pbe3398784d)\" style=\"fill: none; stroke: #0000ff; stroke-width: 1.5; stroke-linecap: round\"/>\n   </g>\n   <g id=\"patch_3\">\n    <path d=\"M 48.653125 169.198125 \nL 48.653125 22.318125 \n\" style=\"fill: none; stroke: #ffffff; stroke-width: 0.8; stroke-linejoin: miter; stroke-linecap: square\"/>\n   </g>\n   <g id=\"patch_4\">\n    <path d=\"M 327.653125 169.198125 \nL 327.653125 22.318125 \n\" style=\"fill: none; stroke: #ffffff; stroke-width: 0.8; stroke-linejoin: miter; stroke-linecap: square\"/>\n   </g>\n   <g id=\"patch_5\">\n    <path d=\"M 48.653125 169.198125 \nL 327.653125 169.198125 \n\" style=\"fill: none; stroke: #ffffff; stroke-width: 0.8; stroke-linejoin: miter; stroke-linecap: square\"/>\n   </g>\n   <g id=\"patch_6\">\n    <path d=\"M 48.653125 22.318125 \nL 327.653125 22.318125 \n\" style=\"fill: none; stroke: #ffffff; stroke-width: 0.8; stroke-linejoin: miter; stroke-linecap: square\"/>\n   </g>\n   <g id=\"text_13\">\n    <!-- Decrease of loss over backprop iteration -->\n    <g style=\"fill: #262626\" transform=\"translate(66.50875 16.318125) scale(0.12 -0.12)\">\n     <defs>\n      <path id=\"DejaVuSans-44\" d=\"M 1259 4147 \nL 1259 519 \nL 2022 519 \nQ 2988 519 3436 956 \nQ 3884 1394 3884 2338 \nQ 3884 3275 3436 3711 \nQ 2988 4147 2022 4147 \nL 1259 4147 \nz\nM 628 4666 \nL 1925 4666 \nQ 3281 4666 3915 4102 \nQ 4550 3538 4550 2338 \nQ 4550 1131 3912 565 \nQ 3275 0 1925 0 \nL 628 0 \nL 628 4666 \nz\n\" transform=\"scale(0.015625)\"/>\n      <path id=\"DejaVuSans-73\" d=\"M 2834 3397 \nL 2834 2853 \nQ 2591 2978 2328 3040 \nQ 2066 3103 1784 3103 \nQ 1356 3103 1142 2972 \nQ 928 2841 928 2578 \nQ 928 2378 1081 2264 \nQ 1234 2150 1697 2047 \nL 1894 2003 \nQ 2506 1872 2764 1633 \nQ 3022 1394 3022 966 \nQ 3022 478 2636 193 \nQ 2250 -91 1575 -91 \nQ 1294 -91 989 -36 \nQ 684 19 347 128 \nL 347 722 \nQ 666 556 975 473 \nQ 1284 391 1588 391 \nQ 1994 391 2212 530 \nQ 2431 669 2431 922 \nQ 2431 1156 2273 1281 \nQ 2116 1406 1581 1522 \nL 1381 1569 \nQ 847 1681 609 1914 \nQ 372 2147 372 2553 \nQ 372 3047 722 3315 \nQ 1072 3584 1716 3584 \nQ 2034 3584 2315 3537 \nQ 2597 3491 2834 3397 \nz\n\" transform=\"scale(0.015625)\"/>\n      <path id=\"DejaVuSans-66\" d=\"M 2375 4863 \nL 2375 4384 \nL 1825 4384 \nQ 1516 4384 1395 4259 \nQ 1275 4134 1275 3809 \nL 1275 3500 \nL 2222 3500 \nL 2222 3053 \nL 1275 3053 \nL 1275 0 \nL 697 0 \nL 697 3053 \nL 147 3053 \nL 147 3500 \nL 697 3500 \nL 697 3744 \nQ 697 4328 969 4595 \nQ 1241 4863 1831 4863 \nL 2375 4863 \nz\n\" transform=\"scale(0.015625)\"/>\n      <path id=\"DejaVuSans-6c\" d=\"M 603 4863 \nL 1178 4863 \nL 1178 0 \nL 603 0 \nL 603 4863 \nz\n\" transform=\"scale(0.015625)\"/>\n      <path id=\"DejaVuSans-76\" d=\"M 191 3500 \nL 800 3500 \nL 1894 563 \nL 2988 3500 \nL 3597 3500 \nL 2284 0 \nL 1503 0 \nL 191 3500 \nz\n\" transform=\"scale(0.015625)\"/>\n      <path id=\"DejaVuSans-6b\" d=\"M 581 4863 \nL 1159 4863 \nL 1159 1991 \nL 2875 3500 \nL 3609 3500 \nL 1753 1863 \nL 3688 0 \nL 2938 0 \nL 1159 1709 \nL 1159 0 \nL 581 0 \nL 581 4863 \nz\n\" transform=\"scale(0.015625)\"/>\n      <path id=\"DejaVuSans-70\" d=\"M 1159 525 \nL 1159 -1331 \nL 581 -1331 \nL 581 3500 \nL 1159 3500 \nL 1159 2969 \nQ 1341 3281 1617 3432 \nQ 1894 3584 2278 3584 \nQ 2916 3584 3314 3078 \nQ 3713 2572 3713 1747 \nQ 3713 922 3314 415 \nQ 2916 -91 2278 -91 \nQ 1894 -91 1617 61 \nQ 1341 213 1159 525 \nz\nM 3116 1747 \nQ 3116 2381 2855 2742 \nQ 2594 3103 2138 3103 \nQ 1681 3103 1420 2742 \nQ 1159 2381 1159 1747 \nQ 1159 1113 1420 752 \nQ 1681 391 2138 391 \nQ 2594 391 2855 752 \nQ 3116 1113 3116 1747 \nz\n\" transform=\"scale(0.015625)\"/>\n     </defs>\n     <use xlink:href=\"#DejaVuSans-44\"/>\n     <use xlink:href=\"#DejaVuSans-65\" x=\"77.001953\"/>\n     <use xlink:href=\"#DejaVuSans-63\" x=\"138.525391\"/>\n     <use xlink:href=\"#DejaVuSans-72\" x=\"193.505859\"/>\n     <use xlink:href=\"#DejaVuSans-65\" x=\"232.369141\"/>\n     <use xlink:href=\"#DejaVuSans-61\" x=\"293.892578\"/>\n     <use xlink:href=\"#DejaVuSans-73\" x=\"355.171875\"/>\n     <use xlink:href=\"#DejaVuSans-65\" x=\"407.271484\"/>\n     <use xlink:href=\"#DejaVuSans-20\" x=\"468.794922\"/>\n     <use xlink:href=\"#DejaVuSans-6f\" x=\"500.582031\"/>\n     <use xlink:href=\"#DejaVuSans-66\" x=\"561.763672\"/>\n     <use xlink:href=\"#DejaVuSans-20\" x=\"596.96875\"/>\n     <use xlink:href=\"#DejaVuSans-6c\" x=\"628.755859\"/>\n     <use xlink:href=\"#DejaVuSans-6f\" x=\"656.539062\"/>\n     <use xlink:href=\"#DejaVuSans-73\" x=\"717.720703\"/>\n     <use xlink:href=\"#DejaVuSans-73\" x=\"769.820312\"/>\n     <use xlink:href=\"#DejaVuSans-20\" x=\"821.919922\"/>\n     <use xlink:href=\"#DejaVuSans-6f\" x=\"853.707031\"/>\n     <use xlink:href=\"#DejaVuSans-76\" x=\"914.888672\"/>\n     <use xlink:href=\"#DejaVuSans-65\" x=\"974.068359\"/>\n     <use xlink:href=\"#DejaVuSans-72\" x=\"1035.591797\"/>\n     <use xlink:href=\"#DejaVuSans-20\" x=\"1076.705078\"/>\n     <use xlink:href=\"#DejaVuSans-62\" x=\"1108.492188\"/>\n     <use xlink:href=\"#DejaVuSans-61\" x=\"1171.96875\"/>\n     <use xlink:href=\"#DejaVuSans-63\" x=\"1233.248047\"/>\n     <use xlink:href=\"#DejaVuSans-6b\" x=\"1288.228516\"/>\n     <use xlink:href=\"#DejaVuSans-70\" x=\"1346.138672\"/>\n     <use xlink:href=\"#DejaVuSans-72\" x=\"1409.615234\"/>\n     <use xlink:href=\"#DejaVuSans-6f\" x=\"1448.478516\"/>\n     <use xlink:href=\"#DejaVuSans-70\" x=\"1509.660156\"/>\n     <use xlink:href=\"#DejaVuSans-20\" x=\"1573.136719\"/>\n     <use xlink:href=\"#DejaVuSans-69\" x=\"1604.923828\"/>\n     <use xlink:href=\"#DejaVuSans-74\" x=\"1632.707031\"/>\n     <use xlink:href=\"#DejaVuSans-65\" x=\"1671.916016\"/>\n     <use xlink:href=\"#DejaVuSans-72\" x=\"1733.439453\"/>\n     <use xlink:href=\"#DejaVuSans-61\" x=\"1774.552734\"/>\n     <use xlink:href=\"#DejaVuSans-74\" x=\"1835.832031\"/>\n     <use xlink:href=\"#DejaVuSans-69\" x=\"1875.041016\"/>\n     <use xlink:href=\"#DejaVuSans-6f\" x=\"1902.824219\"/>\n     <use xlink:href=\"#DejaVuSans-6e\" x=\"1964.005859\"/>\n    </g>\n   </g>\n  </g>\n </g>\n <defs>\n  <clipPath id=\"pbe3398784d\">\n   <rect x=\"48.653125\" y=\"22.318125\" width=\"279\" height=\"146.88\"/>\n  </clipPath>\n </defs>\n</svg>\n"
          },
          "metadata": {}
        }
      ],
      "source": [
        "# Plot the loss over the iterations\n",
        "fig = plt.figure(figsize=(5, 3))\n",
        "plt.plot(ls_of_loss, 'b-')\n",
        "plt.xlabel('minibatch iteration')\n",
        "plt.ylabel('$\\\\xi$', fontsize=15)\n",
        "plt.title('Decrease of loss over backprop iteration')\n",
        "plt.xlim(0, 100)\n",
        "fig.subplots_adjust(bottom=0.2)\n",
        "plt.show()\n",
        "#"
      ]
    },
    {
      "cell_type": "code",
      "execution_count": 33,
      "metadata": {
        "id": "b3cbce25-5d27-4b6f-b2d0-ff35856ba433",
        "outputId": "73b47d61-e0e9-406b-800a-4554f89b24a6",
        "colab": {
          "base_uri": "https://localhost:8080/"
        }
      },
      "outputs": [
        {
          "output_type": "stream",
          "name": "stdout",
          "text": [
            "x1:   1011111101000100001100000110   101458685\n",
            "x2: - 0101010001010011101111111000   33409578\n",
            "      -------   --\n",
            "t:  = 1100101100011010011100000010   68049107\n",
            "y:  = 1100101100011010011100000010\n",
            "\n",
            "x1:   1000011100011110110011100110   108230881\n",
            "x2: - 1011111111011010000111011010   95968253\n",
            "      -------   --\n",
            "t:  = 0010011100111000110111010000   12262628\n",
            "y:  = 0010011100111000110111010000\n",
            "\n",
            "x1:   1111011110001010001101001110   120345071\n",
            "x2: - 0111101111010001000011100100   40930270\n",
            "      -------   --\n",
            "t:  = 1000100001100011110111010010   79414801\n",
            "y:  = 1000100001100011110111010010\n",
            "\n",
            "x1:   1011111011010000001001100110   107219837\n",
            "x2: - 1111001000001011110100110010   80465999\n",
            "      -------   --\n",
            "t:  = 0111010011011100000110011000   26753838\n",
            "y:  = 0111010011011100000110011000\n",
            "\n",
            "x1:   1001101110110100001000100110   105131481\n",
            "x2: - 1000101010111010010110100000   5922129\n",
            "      -------   --\n",
            "t:  = 0001000100001011100101111010   99209352\n",
            "y:  = 0001000100001011100101111010\n",
            "\n"
          ]
        }
      ],
      "source": [
        "# Create test samples\n",
        "nb_test = 5\n",
        "Xtest, Ttest = create_dataset(nb_test, sequence_len)\n",
        "# Push test data through network\n",
        "Y = RNN.getBinaryOutput(Xtest)\n",
        "Yf = RNN.getOutput(Xtest)\n",
        "\n",
        "# Print out all test examples\n",
        "for i in range(Xtest.shape[0]):\n",
        "    printSample(Xtest[i,:,0], Xtest[i,:,1], Ttest[i,:,:], Y[i,:,:])\n",
        "    print('')\n",
        "#"
      ]
    }
  ]
}